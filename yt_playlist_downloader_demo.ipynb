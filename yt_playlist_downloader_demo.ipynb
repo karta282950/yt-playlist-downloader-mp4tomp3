{
  "nbformat": 4,
  "nbformat_minor": 0,
  "metadata": {
    "colab": {
      "provenance": []
    },
    "kernelspec": {
      "name": "python3",
      "display_name": "Python 3"
    },
    "language_info": {
      "name": "python"
    }
  },
  "cells": [
    {
      "cell_type": "code",
      "execution_count": 4,
      "metadata": {
        "colab": {
          "base_uri": "https://localhost:8080/"
        },
        "id": "09uzWgxDCjU5",
        "outputId": "086a6206-1a45-44d7-afba-9691b7e77d83"
      },
      "outputs": [
        {
          "output_type": "stream",
          "name": "stdout",
          "text": [
            "Cloning into 'yt-playlist'...\n",
            "remote: Enumerating objects: 45, done.\u001b[K\n",
            "remote: Counting objects: 100% (20/20), done.\u001b[K\n",
            "remote: Compressing objects: 100% (18/18), done.\u001b[K\n",
            "remote: Total 45 (delta 7), reused 6 (delta 1), pack-reused 25\u001b[K\n",
            "Receiving objects: 100% (45/45), 23.71 KiB | 7.90 MiB/s, done.\n",
            "Resolving deltas: 100% (14/14), done.\n"
          ]
        }
      ],
      "source": [
        "!git clone https://github.com/modkhi/yt-playlist.git"
      ]
    },
    {
      "cell_type": "code",
      "source": [
        "%%bash\n",
        "cd yt-playlist\n",
        "pip install -r requirements.txt"
      ],
      "metadata": {
        "colab": {
          "base_uri": "https://localhost:8080/"
        },
        "id": "7hjKSOiLCmvD",
        "outputId": "4f132262-b69f-4557-87f8-128309df330e"
      },
      "execution_count": 5,
      "outputs": [
        {
          "output_type": "stream",
          "name": "stdout",
          "text": [
            "Collecting pytube==12.1.0 (from -r requirements.txt (line 1))\n",
            "  Using cached pytube-12.1.0-py3-none-any.whl (56 kB)\n",
            "Installing collected packages: pytube\n",
            "  Attempting uninstall: pytube\n",
            "    Found existing installation: pytube 15.0.0\n",
            "    Uninstalling pytube-15.0.0:\n",
            "      Successfully uninstalled pytube-15.0.0\n",
            "Successfully installed pytube-12.1.0\n"
          ]
        }
      ]
    },
    {
      "cell_type": "code",
      "source": [
        "'''If pytube occur bug\n",
        "%%bash\n",
        "pip uninstall pytube\n",
        "!python -m pip install git+https://github.com/nficano/pytube\n",
        "'''"
      ],
      "metadata": {
        "id": "E0WkAlxoff65"
      },
      "execution_count": null,
      "outputs": []
    },
    {
      "cell_type": "code",
      "source": [
        "!python yt-playlist/yt-playlist-download.py"
      ],
      "metadata": {
        "colab": {
          "base_uri": "https://localhost:8080/"
        },
        "id": "4e1Dhg40C2jO",
        "outputId": "6ef409fa-0a34-465b-9f6f-48d254358958"
      },
      "execution_count": 7,
      "outputs": [
        {
          "output_type": "stream",
          "name": "stdout",
          "text": [
            "error: XDG_RUNTIME_DIR not set in the environment.\n",
            "ALSA lib confmisc.c:855:(parse_card) cannot find card '0'\n",
            "ALSA lib conf.c:5178:(_snd_config_evaluate) function snd_func_card_inum returned error: No such file or directory\n",
            "ALSA lib confmisc.c:422:(snd_func_concat) error evaluating strings\n",
            "ALSA lib conf.c:5178:(_snd_config_evaluate) function snd_func_concat returned error: No such file or directory\n",
            "ALSA lib confmisc.c:1334:(snd_func_refer) error evaluating name\n",
            "ALSA lib conf.c:5178:(_snd_config_evaluate) function snd_func_refer returned error: No such file or directory\n",
            "ALSA lib conf.c:5701:(snd_config_expand) Evaluate error: No such file or directory\n",
            "ALSA lib pcm.c:2664:(snd_pcm_open_noupdate) Unknown PCM default\n",
            "ALSA lib confmisc.c:855:(parse_card) cannot find card '0'\n",
            "ALSA lib conf.c:5178:(_snd_config_evaluate) function snd_func_card_inum returned error: No such file or directory\n",
            "ALSA lib confmisc.c:422:(snd_func_concat) error evaluating strings\n",
            "ALSA lib conf.c:5178:(_snd_config_evaluate) function snd_func_concat returned error: No such file or directory\n",
            "ALSA lib confmisc.c:1334:(snd_func_refer) error evaluating name\n",
            "ALSA lib conf.c:5178:(_snd_config_evaluate) function snd_func_refer returned error: No such file or directory\n",
            "ALSA lib conf.c:5701:(snd_config_expand) Evaluate error: No such file or directory\n",
            "ALSA lib pcm.c:2664:(snd_pcm_open_noupdate) Unknown PCM default\n",
            "  0% 0/52 [00:00<?, ?it/s]風潮音樂 -  靈氣養心(片段).mp4\n",
            "Downloading 風潮音樂 -  靈氣養心(片段).mp4...\n",
            "Converting to mp3....\n",
            "/bin/sh: 1: Syntax error: \"(\" unexpected\n",
            "MoviePy - Writing audio in /content/Downloads/風潮音樂-靈氣養心(片段).mp3\n",
            "  0% 0/52 [00:01<?, ?it/s]\n",
            "chunk:   0% 0/4234 [00:00<?, ?it/s, now=None]\u001b[A\n",
            "chunk:   2% 83/4234 [00:00<00:05, 818.46it/s, now=None]\u001b[A\n",
            "chunk:   4% 165/4234 [00:00<00:05, 754.09it/s, now=None]\u001b[A\n",
            "chunk:   6% 243/4234 [00:00<00:05, 754.93it/s, now=None]\u001b[A\n",
            "chunk:   8% 319/4234 [00:00<00:05, 751.78it/s, now=None]\u001b[A\n",
            "chunk:   9% 395/4234 [00:00<00:05, 745.59it/s, now=None]\u001b[A\n",
            "chunk:  11% 470/4234 [00:00<00:05, 718.23it/s, now=None]\u001b[A\n",
            "chunk:  13% 543/4234 [00:00<00:05, 720.82it/s, now=None]\u001b[A\n",
            "chunk:  15% 616/4234 [00:00<00:05, 701.75it/s, now=None]\u001b[A\n",
            "chunk:  16% 690/4234 [00:00<00:04, 712.35it/s, now=None]\u001b[A\n",
            "chunk:  18% 765/4234 [00:01<00:04, 714.67it/s, now=None]\u001b[A\n",
            "chunk:  20% 846/4234 [00:01<00:04, 742.01it/s, now=None]\u001b[A\n",
            "chunk:  22% 923/4234 [00:01<00:04, 745.92it/s, now=None]\u001b[A\n",
            "chunk:  24% 1005/4234 [00:01<00:04, 761.60it/s, now=None]\u001b[A\n",
            "chunk:  26% 1082/4234 [00:01<00:04, 759.09it/s, now=None]\u001b[A\n",
            "chunk:  27% 1158/4234 [00:01<00:04, 749.61it/s, now=None]\u001b[A\n",
            "chunk:  29% 1234/4234 [00:01<00:04, 733.34it/s, now=None]\u001b[A\n",
            "chunk:  31% 1308/4234 [00:01<00:04, 723.22it/s, now=None]\u001b[A\n",
            "chunk:  33% 1383/4234 [00:01<00:03, 730.33it/s, now=None]\u001b[A\n",
            "chunk:  34% 1457/4234 [00:01<00:03, 728.96it/s, now=None]\u001b[A\n",
            "chunk:  36% 1530/4234 [00:02<00:03, 726.02it/s, now=None]\u001b[A\n",
            "chunk:  38% 1603/4234 [00:02<00:03, 714.40it/s, now=None]\u001b[A\n",
            "chunk:  40% 1681/4234 [00:02<00:03, 731.39it/s, now=None]\u001b[A\n",
            "chunk:  41% 1756/4234 [00:02<00:03, 735.96it/s, now=None]\u001b[A\n",
            "chunk:  43% 1830/4234 [00:02<00:03, 734.11it/s, now=None]\u001b[A\n",
            "chunk:  45% 1906/4234 [00:02<00:03, 737.04it/s, now=None]\u001b[A\n",
            "chunk:  47% 1980/4234 [00:02<00:03, 709.22it/s, now=None]\u001b[A\n",
            "chunk:  49% 2054/4234 [00:02<00:03, 713.31it/s, now=None]\u001b[A\n",
            "chunk:  50% 2131/4234 [00:02<00:02, 726.19it/s, now=None]\u001b[A\n",
            "chunk:  52% 2205/4234 [00:03<00:02, 724.45it/s, now=None]\u001b[A\n",
            "chunk:  54% 2283/4234 [00:03<00:02, 735.11it/s, now=None]\u001b[A\n",
            "chunk:  56% 2361/4234 [00:03<00:02, 738.26it/s, now=None]\u001b[A\n",
            "chunk:  58% 2438/4234 [00:03<00:02, 747.26it/s, now=None]\u001b[A\n",
            "chunk:  59% 2519/4234 [00:03<00:02, 765.61it/s, now=None]\u001b[A\n",
            "chunk:  61% 2596/4234 [00:03<00:02, 763.95it/s, now=None]\u001b[A\n",
            "chunk:  63% 2673/4234 [00:03<00:02, 752.25it/s, now=None]\u001b[A\n",
            "chunk:  65% 2749/4234 [00:03<00:02, 734.14it/s, now=None]\u001b[A\n",
            "chunk:  67% 2823/4234 [00:03<00:01, 714.36it/s, now=None]\u001b[A\n",
            "chunk:  68% 2895/4234 [00:03<00:01, 698.84it/s, now=None]\u001b[A\n",
            "chunk:  70% 2966/4234 [00:04<00:02, 623.04it/s, now=None]\u001b[A\n",
            "chunk:  72% 3030/4234 [00:04<00:02, 573.63it/s, now=None]\u001b[A\n",
            "chunk:  73% 3089/4234 [00:04<00:02, 548.81it/s, now=None]\u001b[A\n",
            "chunk:  74% 3145/4234 [00:04<00:01, 545.92it/s, now=None]\u001b[A\n",
            "chunk:  76% 3201/4234 [00:04<00:01, 524.15it/s, now=None]\u001b[A\n",
            "chunk:  77% 3256/4234 [00:04<00:01, 530.44it/s, now=None]\u001b[A\n",
            "chunk:  78% 3310/4234 [00:04<00:01, 489.88it/s, now=None]\u001b[A\n",
            "chunk:  79% 3360/4234 [00:04<00:01, 470.10it/s, now=None]\u001b[A\n",
            "chunk:  81% 3409/4234 [00:05<00:01, 467.43it/s, now=None]\u001b[A\n",
            "chunk:  82% 3458/4234 [00:05<00:01, 467.14it/s, now=None]\u001b[A\n",
            "chunk:  83% 3507/4234 [00:05<00:01, 473.44it/s, now=None]\u001b[A\n",
            "chunk:  84% 3555/4234 [00:05<00:01, 467.62it/s, now=None]\u001b[A\n",
            "chunk:  85% 3602/4234 [00:05<00:01, 462.35it/s, now=None]\u001b[A\n",
            "chunk:  86% 3649/4234 [00:05<00:01, 457.98it/s, now=None]\u001b[A\n",
            "chunk:  87% 3696/4234 [00:05<00:01, 453.15it/s, now=None]\u001b[A\n",
            "chunk:  88% 3742/4234 [00:05<00:01, 434.54it/s, now=None]\u001b[A\n",
            "chunk:  90% 3794/4234 [00:05<00:00, 453.26it/s, now=None]\u001b[A\n",
            "chunk:  91% 3843/4234 [00:05<00:00, 462.37it/s, now=None]\u001b[A\n",
            "chunk:  92% 3893/4234 [00:06<00:00, 465.65it/s, now=None]\u001b[A\n",
            "chunk:  93% 3940/4234 [00:06<00:00, 465.48it/s, now=None]\u001b[A\n",
            "chunk:  94% 3987/4234 [00:06<00:00, 460.43it/s, now=None]\u001b[A\n",
            "chunk:  95% 4043/4234 [00:06<00:00, 480.43it/s, now=None]\u001b[A\n",
            "chunk:  97% 4103/4234 [00:06<00:00, 514.85it/s, now=None]\u001b[A\n",
            "chunk:  98% 4155/4234 [00:06<00:00, 496.36it/s, now=None]\u001b[A\n",
            "chunk:  99% 4205/4234 [00:06<00:00, 496.52it/s, now=None]\u001b[A\n",
            "MoviePy - Done.\n",
            "  2% 1/52 [00:08<07:24,  8.71s/it]風潮音樂 - 松竹多情.mp4\n",
            "Downloading 風潮音樂 - 松竹多情.mp4...\n",
            "Converting to mp3....\n",
            "ffmpeg version 4.4.2-0ubuntu0.22.04.1 Copyright (c) 2000-2021 the FFmpeg developers\n",
            "  built with gcc 11 (Ubuntu 11.2.0-19ubuntu1)\n",
            "  configuration: --prefix=/usr --extra-version=0ubuntu0.22.04.1 --toolchain=hardened --libdir=/usr/lib/x86_64-linux-gnu --incdir=/usr/include/x86_64-linux-gnu --arch=amd64 --enable-gpl --disable-stripping --enable-gnutls --enable-ladspa --enable-libaom --enable-libass --enable-libbluray --enable-libbs2b --enable-libcaca --enable-libcdio --enable-libcodec2 --enable-libdav1d --enable-libflite --enable-libfontconfig --enable-libfreetype --enable-libfribidi --enable-libgme --enable-libgsm --enable-libjack --enable-libmp3lame --enable-libmysofa --enable-libopenjpeg --enable-libopenmpt --enable-libopus --enable-libpulse --enable-librabbitmq --enable-librubberband --enable-libshine --enable-libsnappy --enable-libsoxr --enable-libspeex --enable-libsrt --enable-libssh --enable-libtheora --enable-libtwolame --enable-libvidstab --enable-libvorbis --enable-libvpx --enable-libwebp --enable-libx265 --enable-libxml2 --enable-libxvid --enable-libzimg --enable-libzmq --enable-libzvbi --enable-lv2 --enable-omx --enable-openal --enable-opencl --enable-opengl --enable-sdl2 --enable-pocketsphinx --enable-librsvg --enable-libmfx --enable-libdc1394 --enable-libdrm --enable-libiec61883 --enable-chromaprint --enable-frei0r --enable-libx264 --enable-shared\n",
            "  libavutil      56. 70.100 / 56. 70.100\n",
            "  libavcodec     58.134.100 / 58.134.100\n",
            "  libavformat    58. 76.100 / 58. 76.100\n",
            "  libavdevice    58. 13.100 / 58. 13.100\n",
            "  libavfilter     7.110.100 /  7.110.100\n",
            "  libswscale      5.  9.100 /  5.  9.100\n",
            "  libswresample   3.  9.100 /  3.  9.100\n",
            "  libpostproc    55.  9.100 / 55.  9.100\n",
            "\u001b[1;31m風潮音樂-松竹多情.mp4: No such file or directory\n",
            "MoviePy - Writing audio in /content/Downloads/風潮音樂-松竹多情.mp3\n",
            "  2% 1/52 [00:12<07:24,  8.71s/it]\n",
            "chunk:   0% 0/7905 [00:00<?, ?it/s, now=None]\u001b[A\n",
            "chunk:   1% 86/7905 [00:00<00:09, 853.22it/s, now=None]\u001b[A\n",
            "chunk:   2% 172/7905 [00:00<00:10, 704.17it/s, now=None]\u001b[A\n",
            "chunk:   3% 248/7905 [00:00<00:10, 726.41it/s, now=None]\u001b[A\n",
            "chunk:   4% 322/7905 [00:00<00:10, 707.13it/s, now=None]\u001b[A\n",
            "chunk:   5% 394/7905 [00:00<00:11, 653.71it/s, now=None]\u001b[A\n",
            "chunk:   6% 466/7905 [00:00<00:11, 673.53it/s, now=None]\u001b[A\n",
            "chunk:   7% 542/7905 [00:00<00:10, 699.77it/s, now=None]\u001b[A\n",
            "chunk:   8% 613/7905 [00:00<00:11, 661.00it/s, now=None]\u001b[A\n",
            "chunk:   9% 680/7905 [00:00<00:10, 660.91it/s, now=None]\u001b[A\n",
            "chunk:   9% 749/7905 [00:01<00:10, 664.34it/s, now=None]\u001b[A\n",
            "chunk:  10% 816/7905 [00:01<00:10, 655.12it/s, now=None]\u001b[A\n",
            "chunk:  11% 900/7905 [00:01<00:09, 702.65it/s, now=None]\u001b[A\n",
            "chunk:  12% 977/7905 [00:01<00:09, 719.27it/s, now=None]\u001b[A\n",
            "chunk:  13% 1051/7905 [00:01<00:09, 718.29it/s, now=None]\u001b[A\n",
            "chunk:  14% 1123/7905 [00:01<00:09, 705.98it/s, now=None]\u001b[A\n",
            "chunk:  15% 1206/7905 [00:01<00:09, 741.86it/s, now=None]\u001b[A\n",
            "  2% 1/52 [00:14<12:03, 14.19s/it]\n",
            "Traceback (most recent call last):\n",
            "  File \"/content/yt-playlist/yt-playlist-download.py\", line 60, in <module>\n",
            "    run(pl, path)\n",
            "  File \"/content/yt-playlist/yt-playlist-download.py\", line 52, in run\n",
            "    convert_mp4_to_mp3(path+'Downloads/'+default_filename, path+'Downloads/'+new_filename_remove_spaces)\n",
            "  File \"/content/yt-playlist/yt-playlist-download.py\", line 49, in convert_mp4_to_mp3\n",
            "    audio_clip.write_audiofile(output_path, codec='mp3')\n",
            "  File \"<decorator-gen-45>\", line 2, in write_audiofile\n",
            "  File \"/usr/local/lib/python3.10/dist-packages/moviepy/decorators.py\", line 54, in requires_duration\n",
            "    return f(clip, *a, **k)\n",
            "  File \"/usr/local/lib/python3.10/dist-packages/moviepy/audio/AudioClip.py\", line 206, in write_audiofile\n",
            "    return ffmpeg_audiowrite(self, filename, fps, nbytes, buffersize,\n",
            "  File \"<decorator-gen-9>\", line 2, in ffmpeg_audiowrite\n",
            "  File \"/usr/local/lib/python3.10/dist-packages/moviepy/decorators.py\", line 54, in requires_duration\n",
            "    return f(clip, *a, **k)\n",
            "  File \"/usr/local/lib/python3.10/dist-packages/moviepy/audio/io/ffmpeg_audiowriter.py\", line 170, in ffmpeg_audiowrite\n",
            "    writer.write_frames(chunk)\n",
            "  File \"/usr/local/lib/python3.10/dist-packages/moviepy/audio/io/ffmpeg_audiowriter.py\", line 74, in write_frames\n",
            "    self.proc.stdin.write(frames_array.tobytes())\n",
            "KeyboardInterrupt\n",
            "\n",
            "                                                         \u001b[A^C\n"
          ]
        }
      ]
    },
    {
      "cell_type": "code",
      "source": [],
      "metadata": {
        "id": "X5XGtMvXgqzX"
      },
      "execution_count": null,
      "outputs": []
    }
  ]
}